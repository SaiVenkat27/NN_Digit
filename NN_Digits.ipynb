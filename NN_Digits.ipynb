{
  "nbformat": 4,
  "nbformat_minor": 0,
  "metadata": {
    "colab": {
      "name": "NN_Digits.ipynb",
      "provenance": []
    },
    "kernelspec": {
      "name": "python3",
      "display_name": "Python 3"
    }
  },
  "cells": [
    {
      "cell_type": "code",
      "metadata": {
        "id": "3i37pgDbZ5N5",
        "colab_type": "code",
        "colab": {
          "base_uri": "https://localhost:8080/",
          "height": 63
        },
        "outputId": "b8c22a8c-9930-4125-a818-b7383935a41e"
      },
      "source": [
        "import tensorflow as tf\n",
        "import numpy as np\n",
        "import cv2\n",
        "import matplotlib.pyplot as plt"
      ],
      "execution_count": 1,
      "outputs": [
        {
          "output_type": "display_data",
          "data": {
            "text/html": [
              "<p style=\"color: red;\">\n",
              "The default version of TensorFlow in Colab will soon switch to TensorFlow 2.x.<br>\n",
              "We recommend you <a href=\"https://www.tensorflow.org/guide/migrate\" target=\"_blank\">upgrade</a> now \n",
              "or ensure your notebook will continue to use TensorFlow 1.x via the <code>%tensorflow_version 1.x</code> magic:\n",
              "<a href=\"https://colab.research.google.com/notebooks/tensorflow_version.ipynb\" target=\"_blank\">more info</a>.</p>\n"
            ],
            "text/plain": [
              "<IPython.core.display.HTML object>"
            ]
          },
          "metadata": {
            "tags": []
          }
        }
      ]
    },
    {
      "cell_type": "code",
      "metadata": {
        "id": "ZS05Quf2aToZ",
        "colab_type": "code",
        "colab": {
          "base_uri": "https://localhost:8080/",
          "height": 530
        },
        "outputId": "4959546b-192d-402b-8120-8d4d97c93cf8"
      },
      "source": [
        "from tensorflow.examples.tutorials.mnist import input_data\n",
        "mnist_data = input_data.read_data_sets(\"./data\", one_hot = True)"
      ],
      "execution_count": 2,
      "outputs": [
        {
          "output_type": "stream",
          "text": [
            "WARNING:tensorflow:From <ipython-input-2-4cf8105ac99b>:2: read_data_sets (from tensorflow.contrib.learn.python.learn.datasets.mnist) is deprecated and will be removed in a future version.\n",
            "Instructions for updating:\n",
            "Please use alternatives such as official/mnist/dataset.py from tensorflow/models.\n",
            "WARNING:tensorflow:From /usr/local/lib/python3.6/dist-packages/tensorflow_core/contrib/learn/python/learn/datasets/mnist.py:260: maybe_download (from tensorflow.contrib.learn.python.learn.datasets.base) is deprecated and will be removed in a future version.\n",
            "Instructions for updating:\n",
            "Please write your own downloading logic.\n",
            "WARNING:tensorflow:From /usr/local/lib/python3.6/dist-packages/tensorflow_core/contrib/learn/python/learn/datasets/base.py:252: _internal_retry.<locals>.wrap.<locals>.wrapped_fn (from tensorflow.contrib.learn.python.learn.datasets.base) is deprecated and will be removed in a future version.\n",
            "Instructions for updating:\n",
            "Please use urllib or similar directly.\n",
            "Successfully downloaded train-images-idx3-ubyte.gz 9912422 bytes.\n",
            "WARNING:tensorflow:From /usr/local/lib/python3.6/dist-packages/tensorflow_core/contrib/learn/python/learn/datasets/mnist.py:262: extract_images (from tensorflow.contrib.learn.python.learn.datasets.mnist) is deprecated and will be removed in a future version.\n",
            "Instructions for updating:\n",
            "Please use tf.data to implement this functionality.\n",
            "Extracting ./data/train-images-idx3-ubyte.gz\n",
            "Successfully downloaded train-labels-idx1-ubyte.gz 28881 bytes.\n",
            "WARNING:tensorflow:From /usr/local/lib/python3.6/dist-packages/tensorflow_core/contrib/learn/python/learn/datasets/mnist.py:267: extract_labels (from tensorflow.contrib.learn.python.learn.datasets.mnist) is deprecated and will be removed in a future version.\n",
            "Instructions for updating:\n",
            "Please use tf.data to implement this functionality.\n",
            "Extracting ./data/train-labels-idx1-ubyte.gz\n",
            "WARNING:tensorflow:From /usr/local/lib/python3.6/dist-packages/tensorflow_core/contrib/learn/python/learn/datasets/mnist.py:110: dense_to_one_hot (from tensorflow.contrib.learn.python.learn.datasets.mnist) is deprecated and will be removed in a future version.\n",
            "Instructions for updating:\n",
            "Please use tf.one_hot on tensors.\n",
            "Successfully downloaded t10k-images-idx3-ubyte.gz 1648877 bytes.\n",
            "Extracting ./data/t10k-images-idx3-ubyte.gz\n",
            "Successfully downloaded t10k-labels-idx1-ubyte.gz 4542 bytes.\n",
            "Extracting ./data/t10k-labels-idx1-ubyte.gz\n",
            "WARNING:tensorflow:From /usr/local/lib/python3.6/dist-packages/tensorflow_core/contrib/learn/python/learn/datasets/mnist.py:290: DataSet.__init__ (from tensorflow.contrib.learn.python.learn.datasets.mnist) is deprecated and will be removed in a future version.\n",
            "Instructions for updating:\n",
            "Please use alternatives such as official/mnist/dataset.py from tensorflow/models.\n"
          ],
          "name": "stdout"
        }
      ]
    },
    {
      "cell_type": "code",
      "metadata": {
        "id": "yIxNXhWfa2v2",
        "colab_type": "code",
        "colab": {
          "base_uri": "https://localhost:8080/",
          "height": 34
        },
        "outputId": "f7dfa8a0-2971-461d-bc20-b4abd508459a"
      },
      "source": [
        "num_training = mnist_data.train.num_examples\n",
        "num_validation = mnist_data.validation.num_examples\n",
        "num_test = mnist_data.test.num_examples\n",
        "print(\"Train {} Test {} Validation {}\".format(num_training,num_test,num_validation))"
      ],
      "execution_count": 6,
      "outputs": [
        {
          "output_type": "stream",
          "text": [
            "Train 55000 Test 10000 Validation 5000\n"
          ],
          "name": "stdout"
        }
      ]
    },
    {
      "cell_type": "code",
      "metadata": {
        "id": "2a76YSWebm80",
        "colab_type": "code",
        "colab": {}
      },
      "source": [
        "n_input = 784\n",
        "n_hidden_1 = 512\n",
        "n_hidden_2 = 256\n",
        "n_hidden_3 = 128\n",
        "n_output = 10"
      ],
      "execution_count": 0,
      "outputs": []
    },
    {
      "cell_type": "code",
      "metadata": {
        "id": "a-QB_v0mce9n",
        "colab_type": "code",
        "colab": {}
      },
      "source": [
        "learning_rate = 1e-4\n",
        "epochs = 3000\n",
        "batch_size = 128\n",
        "keep_prob = tf.placeholder(tf.float32)"
      ],
      "execution_count": 0,
      "outputs": []
    },
    {
      "cell_type": "code",
      "metadata": {
        "id": "8llgRibOczFG",
        "colab_type": "code",
        "colab": {}
      },
      "source": [
        "X = tf.placeholder(tf.float32,[None,n_input])\n",
        "Y = tf.placeholder(tf.float32, [None,n_output])"
      ],
      "execution_count": 0,
      "outputs": []
    },
    {
      "cell_type": "code",
      "metadata": {
        "id": "n5VT1L5-dET6",
        "colab_type": "code",
        "colab": {}
      },
      "source": [
        "nn_weights = {\n",
        "    \"W1\" : tf.Variable(tf.truncated_normal([n_input,n_hidden_1],stddev=0.1)),\n",
        "    \"W2\" : tf.Variable(tf.truncated_normal([n_hidden_1,n_hidden_2],stddev=0.1)),\n",
        "    \"W3\" : tf.Variable(tf.truncated_normal([n_hidden_2,n_hidden_3],stddev=0.1)),\n",
        "    \"Wout\" : tf.Variable(tf.truncated_normal([n_hidden_3,n_output],stddev=0.1)),\n",
        "}\n",
        "nn_bias = {\n",
        "    \"B1\" : tf.Variable(tf.truncated_normal([n_hidden_1])),\n",
        "    \"B2\" : tf.Variable(tf.truncated_normal([n_hidden_2])),\n",
        "    \"B3\" : tf.Variable(tf.truncated_normal([n_hidden_3])),\n",
        "    \"B4\" : tf.Variable(tf.truncated_normal([n_output]))\n",
        "}"
      ],
      "execution_count": 0,
      "outputs": []
    },
    {
      "cell_type": "code",
      "metadata": {
        "id": "IFMueRN5eQVp",
        "colab_type": "code",
        "colab": {
          "base_uri": "https://localhost:8080/",
          "height": 88
        },
        "outputId": "54a6fe93-cd6e-4cc5-aa66-79bfe61c825c"
      },
      "source": [
        "nn_layer_1 = tf.add(tf.matmul(X,nn_weights[\"W1\"]),nn_bias[\"B1\"])\n",
        "nn_layer_2 = tf.add(tf.matmul(nn_layer_1,nn_weights[\"W2\"]),nn_bias[\"B2\"])\n",
        "nn_layer_3 = tf.add(tf.matmul(nn_layer_2,nn_weights[\"W3\"]),nn_bias[\"B3\"])\n",
        "layer_drop = tf.nn.dropout(nn_layer_3,keep_prob)\n",
        "output_layer = tf.add(tf.matmul(layer_drop,nn_weights[\"Wout\"]), nn_bias[\"B4\"])"
      ],
      "execution_count": 15,
      "outputs": [
        {
          "output_type": "stream",
          "text": [
            "WARNING:tensorflow:From <ipython-input-15-5cfac52b7349>:4: calling dropout (from tensorflow.python.ops.nn_ops) with keep_prob is deprecated and will be removed in a future version.\n",
            "Instructions for updating:\n",
            "Please use `rate` instead of `keep_prob`. Rate should be set to `rate = 1 - keep_prob`.\n"
          ],
          "name": "stdout"
        }
      ]
    },
    {
      "cell_type": "code",
      "metadata": {
        "id": "-2PuYGxdfxA3",
        "colab_type": "code",
        "colab": {}
      },
      "source": [
        "computed_loss = tf.reduce_mean(tf.nn.softmax_cross_entropy_with_logits_v2(logits=output_layer,labels=Y))\n",
        "\n",
        "optimizer = tf.train.GradientDescentOptimizer(learning_rate = learning_rate).minimize(computed_loss)\n",
        "\n",
        "prediction = tf.equal(tf.argmax(output_layer,1),tf.argmax(Y,1))\n",
        "\n",
        "nn_accuracy = tf.reduce_mean(tf.cast(prediction,tf.float32))\n",
        "\n",
        "init = tf.global_variables_initializer()\n",
        "\n",
        "saver = tf.train.Saver()"
      ],
      "execution_count": 0,
      "outputs": []
    },
    {
      "cell_type": "code",
      "metadata": {
        "id": "lYPJVRH1hTeN",
        "colab_type": "code",
        "colab": {
          "base_uri": "https://localhost:8080/",
          "height": 561
        },
        "outputId": "d1689939-3687-473c-b11f-9c12814df829"
      },
      "source": [
        "with tf.Session() as sess:\n",
        "  sess.run(init)\n",
        "  for i in range(epochs):\n",
        "    mini_batch_x, mini_batch_y = mnist_data.train.next_batch(batch_size)\n",
        "    mini_batch_val_x, mini_batch_val_y = mnist_data.validation.next_batch(batch_size)\n",
        "    sess.run(optimizer, feed_dict = { X : mini_batch_x, Y : mini_batch_y , keep_prob : 1})\n",
        "\n",
        "    if not i%100  :\n",
        "      mini_batch_loss, mini_batch_accuracy = sess.run([computed_loss,nn_accuracy], feed_dict = { X : mini_batch_x, Y : mini_batch_y , keep_prob : 1 })\n",
        "      mini_batch_val_loss, mini_batch_val_accuracy = sess.run([computed_loss,nn_accuracy], feed_dict = { X : mini_batch_val_x, Y : mini_batch_val_y , keep_prob : 1 })\n",
        "\n",
        "      print(\"Iteration {} Train_Loss {} Train_accuracy {} Val_Loss {} Val_accuracy {}\".format(i,mini_batch_loss,mini_batch_accuracy,mini_batch_val_loss,mini_batch_val_accuracy))\n",
        "\n",
        "  print(\"OPtimization Finished\")\n",
        "  test_accuracy = sess.run(nn_accuracy,feed_dict = { X : mnist_data.test.images , Y : mnist_data.test.labels, keep_prob : 1.0})\n",
        "  print(\"Test accuracy is {}\".format(test_accuracy))\n",
        "\n",
        "  saver_path = saver.save(sess,\"./model/my_model.ckpt\")"
      ],
      "execution_count": 17,
      "outputs": [
        {
          "output_type": "stream",
          "text": [
            "Iteration 0 Train_Loss 6.309386253356934 Train_accuracy 0.015625 Val_Loss 6.657808303833008 Val_accuracy 0.0390625\n",
            "Iteration 100 Train_Loss 3.0956554412841797 Train_accuracy 0.15625 Val_Loss 3.018744945526123 Val_accuracy 0.1328125\n",
            "Iteration 200 Train_Loss 2.7160544395446777 Train_accuracy 0.1796875 Val_Loss 2.5835325717926025 Val_accuracy 0.1875\n",
            "Iteration 300 Train_Loss 2.351191997528076 Train_accuracy 0.234375 Val_Loss 2.243969440460205 Val_accuracy 0.2578125\n",
            "Iteration 400 Train_Loss 2.244586229324341 Train_accuracy 0.2890625 Val_Loss 2.0921599864959717 Val_accuracy 0.28125\n",
            "Iteration 500 Train_Loss 1.9810092449188232 Train_accuracy 0.3828125 Val_Loss 2.0630664825439453 Val_accuracy 0.265625\n",
            "Iteration 600 Train_Loss 1.8371949195861816 Train_accuracy 0.390625 Val_Loss 1.832929253578186 Val_accuracy 0.3984375\n",
            "Iteration 700 Train_Loss 1.6277767419815063 Train_accuracy 0.4765625 Val_Loss 1.5840253829956055 Val_accuracy 0.390625\n",
            "Iteration 800 Train_Loss 1.7589728832244873 Train_accuracy 0.390625 Val_Loss 1.4972496032714844 Val_accuracy 0.4765625\n",
            "Iteration 900 Train_Loss 1.4897990226745605 Train_accuracy 0.4921875 Val_Loss 1.4067233800888062 Val_accuracy 0.5078125\n",
            "Iteration 1000 Train_Loss 1.4774155616760254 Train_accuracy 0.4453125 Val_Loss 1.4950978755950928 Val_accuracy 0.4921875\n",
            "Iteration 1100 Train_Loss 1.2650771141052246 Train_accuracy 0.5546875 Val_Loss 1.4070080518722534 Val_accuracy 0.5546875\n",
            "Iteration 1200 Train_Loss 1.26576828956604 Train_accuracy 0.5859375 Val_Loss 1.3056941032409668 Val_accuracy 0.546875\n",
            "Iteration 1300 Train_Loss 1.0622292757034302 Train_accuracy 0.6640625 Val_Loss 1.2088533639907837 Val_accuracy 0.5546875\n",
            "Iteration 1400 Train_Loss 1.2801969051361084 Train_accuracy 0.546875 Val_Loss 1.1579960584640503 Val_accuracy 0.59375\n",
            "Iteration 1500 Train_Loss 1.1610705852508545 Train_accuracy 0.5859375 Val_Loss 1.0628163814544678 Val_accuracy 0.59375\n",
            "Iteration 1600 Train_Loss 1.1098551750183105 Train_accuracy 0.6640625 Val_Loss 1.0057697296142578 Val_accuracy 0.65625\n",
            "Iteration 1700 Train_Loss 0.9413623213768005 Train_accuracy 0.6875 Val_Loss 1.2479053735733032 Val_accuracy 0.578125\n",
            "Iteration 1800 Train_Loss 1.0075727701187134 Train_accuracy 0.6640625 Val_Loss 1.0360701084136963 Val_accuracy 0.6484375\n",
            "Iteration 1900 Train_Loss 0.8477452993392944 Train_accuracy 0.734375 Val_Loss 0.8679317235946655 Val_accuracy 0.71875\n",
            "Iteration 2000 Train_Loss 1.0867526531219482 Train_accuracy 0.6484375 Val_Loss 0.8732021450996399 Val_accuracy 0.7109375\n",
            "Iteration 2100 Train_Loss 0.9898232221603394 Train_accuracy 0.6484375 Val_Loss 0.9518274664878845 Val_accuracy 0.75\n",
            "Iteration 2200 Train_Loss 0.7802877426147461 Train_accuracy 0.765625 Val_Loss 0.8517972826957703 Val_accuracy 0.7109375\n",
            "Iteration 2300 Train_Loss 0.9004150032997131 Train_accuracy 0.7109375 Val_Loss 0.8105790615081787 Val_accuracy 0.7734375\n",
            "Iteration 2400 Train_Loss 0.9771997928619385 Train_accuracy 0.6875 Val_Loss 0.7017474174499512 Val_accuracy 0.765625\n",
            "Iteration 2500 Train_Loss 1.0624247789382935 Train_accuracy 0.640625 Val_Loss 0.7760647535324097 Val_accuracy 0.703125\n",
            "Iteration 2600 Train_Loss 0.7700163125991821 Train_accuracy 0.75 Val_Loss 0.8779276609420776 Val_accuracy 0.6953125\n",
            "Iteration 2700 Train_Loss 0.7614538669586182 Train_accuracy 0.7578125 Val_Loss 0.7979275584220886 Val_accuracy 0.78125\n",
            "Iteration 2800 Train_Loss 0.6361724138259888 Train_accuracy 0.7890625 Val_Loss 0.6680892705917358 Val_accuracy 0.7734375\n",
            "Iteration 2900 Train_Loss 0.6814113855361938 Train_accuracy 0.734375 Val_Loss 0.8061947822570801 Val_accuracy 0.71875\n",
            "OPtimization Finished\n",
            "Test accuracy is 0.7566999793052673\n"
          ],
          "name": "stdout"
        }
      ]
    },
    {
      "cell_type": "code",
      "metadata": {
        "id": "_gZJKDNknJgw",
        "colab_type": "code",
        "colab": {
          "base_uri": "https://localhost:8080/",
          "height": 299
        },
        "outputId": "cfac9350-0e6f-421a-a466-face7c9f185d"
      },
      "source": [
        "img = cv2.imread(\"test4.jpg\")\n",
        "gray_image =  cv2.cvtColor(img,cv2.COLOR_BGR2GRAY)\n",
        "\n",
        "rescaled_img =cv2.resize(gray_image,(28,28))\n",
        "plt.imshow(rescaled_img, cmap=\"gray\")\n",
        "plt.show()\n",
        "rescaled_img.shape\n",
        "\n",
        "dum = rescaled_img.reshape(1,-1)/255\n",
        "dum.reshape\n",
        "\n",
        "with tf.Session() as sess:\n",
        "  saver.restore(sess, \"./model/my_model.ckpt\")\n",
        "  z = output_layer.eval(feed_dict = {X : dum,keep_prob : 1.0})\n",
        "  y_pred = np.argmax(z,axis=1)\n",
        "  print(\"Prediction for test image is {}\".format(y_pred))"
      ],
      "execution_count": 23,
      "outputs": [
        {
          "output_type": "display_data",
          "data": {
            "image/png": "[encoded data removed]",
            "text/plain": [
              "<Figure size 432x288 with 1 Axes>"
            ]
          },
          "metadata": {
            "tags": []
          }
        },
        {
          "output_type": "stream",
          "text": [
            "INFO:tensorflow:Restoring parameters from ./model/my_model.ckpt\n",
            "Prediction for test image is [4]\n"
          ],
          "name": "stdout"
        }
      ]
    }
  ]
}